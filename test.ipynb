{
 "cells": [
  {
   "cell_type": "code",
   "execution_count": 1,
   "metadata": {},
   "outputs": [],
   "source": [
    "import torch\n",
    "from torch import nn\n",
    "import torch.nn.functional as F\n",
    "\n",
    "def Weighted_GAP(supp_feat, mask):\n",
    "    supp_feat = supp_feat * mask # mask\n",
    "    feat_h, feat_w = supp_feat.shape[-2:][0], supp_feat.shape[-2:][1]\n",
    "    area = F.avg_pool2d(mask, (supp_feat.size()[2], supp_feat.size()[3])) * feat_h * feat_w + 0.0005\n",
    "    supp_feat = F.avg_pool2d(input=supp_feat, kernel_size=supp_feat.shape[-2:]) * feat_h * feat_w / area \n",
    "    return supp_feat # scala "
   ]
  },
  {
   "cell_type": "code",
   "execution_count": 2,
   "metadata": {},
   "outputs": [],
   "source": [
    "img_input = torch.randn([2,3,5,5])\n",
    "masks = torch.rand_like(img_input)"
   ]
  },
  {
   "cell_type": "code",
   "execution_count": 4,
   "metadata": {},
   "outputs": [],
   "source": [
    "masks[masks>0.5]=1\n",
    "masks[masks<=0.5]=0"
   ]
  },
  {
   "cell_type": "code",
   "execution_count": 6,
   "metadata": {},
   "outputs": [],
   "source": [
    "aa = Weighted_GAP(img_input,masks[0])"
   ]
  },
  {
   "cell_type": "code",
   "execution_count": 9,
   "metadata": {},
   "outputs": [
    {
     "name": "stdout",
     "output_type": "stream",
     "text": [
      "torch.Size([2, 3, 5, 5])\n",
      "torch.Size([2, 3, 5, 5])\n",
      "torch.Size([2, 3, 1, 1])\n"
     ]
    }
   ],
   "source": [
    "print(img_input.shape)\n",
    "print(masks.shape)\n",
    "print(aa.shape)\n"
   ]
  },
  {
   "cell_type": "code",
   "execution_count": null,
   "metadata": {},
   "outputs": [],
   "source": []
  }
 ],
 "metadata": {
  "kernelspec": {
   "display_name": "Python 3.7.4 ('base')",
   "language": "python",
   "name": "python3"
  },
  "language_info": {
   "codemirror_mode": {
    "name": "ipython",
    "version": 3
   },
   "file_extension": ".py",
   "mimetype": "text/x-python",
   "name": "python",
   "nbconvert_exporter": "python",
   "pygments_lexer": "ipython3",
   "version": "3.7.4"
  },
  "orig_nbformat": 4,
  "vscode": {
   "interpreter": {
    "hash": "f8d37e4eb0b733e6dbad38c42fa180db9d4a21e54a32da31b6f86eec80d2a792"
   }
  }
 },
 "nbformat": 4,
 "nbformat_minor": 2
}
